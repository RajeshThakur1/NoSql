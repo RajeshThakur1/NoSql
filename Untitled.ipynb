{
 "cells": [
  {
   "cell_type": "code",
   "execution_count": 1,
   "id": "0a271b96",
   "metadata": {},
   "outputs": [],
   "source": [
    "import pymongo"
   ]
  },
  {
   "cell_type": "code",
   "execution_count": 3,
   "id": "5c93900e",
   "metadata": {},
   "outputs": [],
   "source": [
    "DEFAULT_CONNECTION_URL = \"mongodb://localhost:27017/\"\n",
    "DB_NAME = \"pybron\"\n",
    "client = pymongo.MongoClient(DEFAULT_CONNECTION_URL)\n",
    "\n",
    "#create DB\n",
    "database = client['DB_NAME']\n"
   ]
  },
  {
   "cell_type": "markdown",
   "id": "1bc1d217",
   "metadata": {},
   "source": [
    "---\n",
    "\n",
    "### Paste the default URL in highlighted area of the Compass tool as shown below and click on connect\n",
    "default URL for local system:- \n",
    "```\n",
    "mongodb://localhost:27017/\n",
    "```\n",
    "\n",
    "> ![new connection](mongo_img/compass/c2.JPG)\n",
    "\n",
    "after you press connect you'll see the following screen which contains already existing databases\n",
    "\n",
    "> ![new connection](mongo_img/compass/c3.JPG)\n",
    "\n",
    "\n",
    "**NOTE** you'll not see your database untill or unless you have created first document inside it. So at present we don't have any document in our DB its name is not visible here \n",
    "\n",
    "You can also create a database by clicking on CREATE DATABSE button. You'll see a below screen (But we'll see eveyrthing using python)\n",
    "\n",
    "> ![new connection](mongo_img/compass/c4.JPG)"
   ]
  },
  {
   "cell_type": "code",
   "execution_count": 6,
   "id": "b471be08",
   "metadata": {},
   "outputs": [
    {
     "data": {
      "text/plain": [
       "['admin', 'config', 'local', 'rajesh']"
      ]
     },
     "execution_count": 6,
     "metadata": {},
     "output_type": "execute_result"
    }
   ],
   "source": [
    "### to show what are the existing Databases are present in our mongo server\n",
    "client.list_database_names()"
   ]
  },
  {
   "cell_type": "markdown",
   "id": "0e0dcd94",
   "metadata": {},
   "source": [
    "# let's verify wether we have our database in the list or not\n",
    "def checkExisting_DB(DB_NAME, client):\n",
    "    DBlist = client.list_database_names()\n",
    "    print(DBlist)\n",
    "    if DB_NAME in DBlist:\n",
    "        print(f\"{DB_NAME} is present\")\n",
    "        return True\n",
    "    else:\n",
    "        print(f\"{DB_NAME} not present\")\n",
    "        return False"
   ]
  },
  {
   "cell_type": "code",
   "execution_count": 24,
   "id": "6d53559a",
   "metadata": {},
   "outputs": [
    {
     "name": "stdout",
     "output_type": "stream",
     "text": [
      "['admin', 'config', 'local', 'rajesh']\n",
      "rajesh is present\n"
     ]
    },
    {
     "data": {
      "text/plain": [
       "True"
      ]
     },
     "execution_count": 24,
     "metadata": {},
     "output_type": "execute_result"
    }
   ],
   "source": [
    "checkExisting_DB('rajesh',client)"
   ]
  },
  {
   "cell_type": "code",
   "execution_count": 11,
   "id": "24d7ca52",
   "metadata": {},
   "outputs": [],
   "source": [
    "DBlist = client.list_database_names()"
   ]
  },
  {
   "cell_type": "markdown",
   "id": "b3ee8b1f",
   "metadata": {},
   "source": [
    "### Step To: create a collection"
   ]
  },
  {
   "cell_type": "code",
   "execution_count": 25,
   "id": "b750bea8",
   "metadata": {},
   "outputs": [],
   "source": [
    "collection_name = \"pybron_product\"\n",
    "collection = database[collection_name]"
   ]
  },
  {
   "cell_type": "code",
   "execution_count": 26,
   "id": "29c98451",
   "metadata": {},
   "outputs": [
    {
     "data": {
      "text/plain": [
       "['admin', 'config', 'local', 'rajesh']"
      ]
     },
     "execution_count": 26,
     "metadata": {},
     "output_type": "execute_result"
    }
   ],
   "source": [
    "client.list_database_names()"
   ]
  },
  {
   "cell_type": "code",
   "execution_count": 27,
   "id": "9340be88",
   "metadata": {},
   "outputs": [],
   "source": [
    "## let's veryfiy the collections\n",
    "def checkExisting_col(COLLECTION_NAME,DB_NAME,db):\n",
    "    \"it will verify the existing collection in the database or not\"\n",
    "    collection_list = db.list_collection_names()\n",
    "    if COLLECTION_NAME in collection_list:\n",
    "        print(f\"{COLLECTION_NAME} is presnt in the Database {DB_NAME}\")\n",
    "        return True\n",
    "    else:\n",
    "        print(f\"{COLLECTION_NAME} is not presnt in the Database {DB_NAME}\")\n",
    "        return False"
   ]
  },
  {
   "cell_type": "code",
   "execution_count": 29,
   "id": "117adfc8",
   "metadata": {},
   "outputs": [
    {
     "name": "stdout",
     "output_type": "stream",
     "text": [
      "pybron_product is not presnt in the Database rajesh\n"
     ]
    },
    {
     "data": {
      "text/plain": [
       "False"
      ]
     },
     "execution_count": 29,
     "metadata": {},
     "output_type": "execute_result"
    }
   ],
   "source": [
    "checkExisting_col(COLLECTION_NAME=collection_name,DB_NAME=DB_NAME, db= database)"
   ]
  },
  {
   "cell_type": "markdown",
   "id": "9f3fd043",
   "metadata": {},
   "source": [
    "### STEP 3: Insert a record in the collection"
   ]
  },
  {
   "cell_type": "code",
   "execution_count": 31,
   "id": "e5d97086",
   "metadata": {},
   "outputs": [
    {
     "data": {
      "text/plain": [
       "<pymongo.results.InsertOneResult at 0x22b280529a0>"
      ]
     },
     "execution_count": 31,
     "metadata": {},
     "output_type": "execute_result"
    }
   ],
   "source": [
    "record = {\n",
    "    'company_name':\"pybron\",\n",
    "    \"product\":\"Affordable_AI\",\n",
    "    'course_offered': \"deep learning for computer vission\"\n",
    "}\n",
    "collection.insert_one(record)"
   ]
  },
  {
   "cell_type": "code",
   "execution_count": 32,
   "id": "632dd8f0",
   "metadata": {},
   "outputs": [
    {
     "data": {
      "text/plain": [
       "<pymongo.results.InsertOneResult at 0x22b280467f0>"
      ]
     },
     "execution_count": 32,
     "metadata": {},
     "output_type": "execute_result"
    }
   ],
   "source": [
    "record = {\n",
    "    'company_name':\"pybron\",\n",
    "    \"product\":\"Affordable_ML\",\n",
    "    'course_offered': \"MACHINE learning for Data Scientiest\"\n",
    "}\n",
    "collection.insert_one(record)"
   ]
  },
  {
   "cell_type": "code",
   "execution_count": 33,
   "id": "14847562",
   "metadata": {},
   "outputs": [
    {
     "data": {
      "text/plain": [
       "<pymongo.results.InsertOneResult at 0x22b27f3ffd0>"
      ]
     },
     "execution_count": 33,
     "metadata": {},
     "output_type": "execute_result"
    }
   ],
   "source": [
    "record = {\n",
    "    'company_name':\"pybron\",\n",
    "    \"product\":\"Affordable_ML\",\n",
    "    'course_offered': \"MACHINE learning for Data Scientiest\",\n",
    "    \"trainer_name\": \"rajesh\"\n",
    "    \n",
    "}\n",
    "collection.insert_one(record)"
   ]
  },
  {
   "cell_type": "code",
   "execution_count": 36,
   "id": "3c669bcc",
   "metadata": {},
   "outputs": [],
   "source": [
    "list_of_records = [\n",
    "    {\n",
    "    'company_name':\"pybron\",\n",
    "    \"product\":\"Affordable_ML\",\n",
    "    'course_offered': \"MACHINE learning for Data Scientiest\",\n",
    "    \"trainer_name\": \"rajesh\"\n",
    "    \n",
    "},\n",
    "    {\n",
    "    'company_name':\"TCS\",\n",
    "    \"product\":\"Affordable_ML\",\n",
    "    'course_offered': \"MACHINE learning for Data Scientiest\",\n",
    "    \"trainer_name\": \"rajesh\"\n",
    "    \n",
    "},\n",
    "    {\n",
    "    'company_name':\"Capgemina\",\n",
    "    \"product\":\"Full stack developer\",\n",
    "    'course_offered': \"MACHINE learning for Data Scientiest\",\n",
    "    \n",
    "    \n",
    "}\n",
    "]\n",
    "res = collection.insert_many(list_of_records)"
   ]
  },
  {
   "cell_type": "code",
   "execution_count": 37,
   "id": "d436004e",
   "metadata": {},
   "outputs": [],
   "source": [
    "## let's print the unique ID that of the record that we inserted\n",
    "\n",
    "inserted_IDs = res.inserted_ids\n"
   ]
  },
  {
   "cell_type": "code",
   "execution_count": 38,
   "id": "1f23fe80",
   "metadata": {},
   "outputs": [
    {
     "data": {
      "text/plain": [
       "[ObjectId('632ea19c15c1514a8618ef1a'),\n",
       " ObjectId('632ea19c15c1514a8618ef1b'),\n",
       " ObjectId('632ea19c15c1514a8618ef1c')]"
      ]
     },
     "execution_count": 38,
     "metadata": {},
     "output_type": "execute_result"
    }
   ],
   "source": [
    "inserted_IDs"
   ]
  },
  {
   "cell_type": "code",
   "execution_count": 39,
   "id": "9f257cfe",
   "metadata": {},
   "outputs": [
    {
     "name": "stdout",
     "output_type": "stream",
     "text": [
      "0   632ea19c15c1514a8618ef1a\n",
      "1   632ea19c15c1514a8618ef1b\n",
      "2   632ea19c15c1514a8618ef1c\n"
     ]
    }
   ],
   "source": [
    "for idx, unique_ids in enumerate(inserted_IDs):\n",
    "    print(f\"{idx}   {unique_ids}\")"
   ]
  },
  {
   "cell_type": "code",
   "execution_count": 41,
   "id": "090fd093",
   "metadata": {},
   "outputs": [],
   "source": [
    "COLLECTION_NAME = \"pybron_faculties\"\n",
    "faculties = database['pybron_faculties']\n",
    "list_of_records_user_defined_id= [\n",
    "    {\n",
    "        \"_id\":\"1\",\n",
    "        'company_name':\"TCS\",\n",
    "        \"faculty_name\":\"Rajesh\"\n",
    "        \n",
    "    },\n",
    "    {\n",
    "        \"_id\":\"2\",\n",
    "        'company_name':\"pybron\",\n",
    "        \"faculty_name\":\"Manish\",\n",
    "        \"specilization\":\"Full stack Developer\"\n",
    "        \n",
    "    }\n",
    "    \n",
    "    \n",
    "]\n",
    "\n",
    "faculty_record = faculties.insert_many(list_of_records_user_defined_id)\n"
   ]
  },
  {
   "cell_type": "code",
   "execution_count": 42,
   "id": "02995cc7",
   "metadata": {},
   "outputs": [
    {
     "ename": "TypeError",
     "evalue": "'InsertManyResult' object is not iterable",
     "output_type": "error",
     "traceback": [
      "\u001b[1;31m---------------------------------------------------------------------------\u001b[0m",
      "\u001b[1;31mTypeError\u001b[0m                                 Traceback (most recent call last)",
      "\u001b[1;32mC:\\Users\\RAJESH~1\\AppData\\Local\\Temp/ipykernel_46076/2539083906.py\u001b[0m in \u001b[0;36m<module>\u001b[1;34m\u001b[0m\n\u001b[1;32m----> 1\u001b[1;33m \u001b[1;32mfor\u001b[0m \u001b[0midx\u001b[0m\u001b[1;33m,\u001b[0m \u001b[0munique_ids\u001b[0m \u001b[1;32min\u001b[0m \u001b[0menumerate\u001b[0m\u001b[1;33m(\u001b[0m\u001b[0mfaculty_record\u001b[0m\u001b[1;33m)\u001b[0m\u001b[1;33m:\u001b[0m\u001b[1;33m\u001b[0m\u001b[1;33m\u001b[0m\u001b[0m\n\u001b[0m\u001b[0;32m      2\u001b[0m     \u001b[0mprint\u001b[0m\u001b[1;33m(\u001b[0m\u001b[1;34mf\"{idx}   {unique_ids}\"\u001b[0m\u001b[1;33m)\u001b[0m\u001b[1;33m\u001b[0m\u001b[1;33m\u001b[0m\u001b[0m\n",
      "\u001b[1;31mTypeError\u001b[0m: 'InsertManyResult' object is not iterable"
     ]
    }
   ],
   "source": [
    "faculty_record.inserted_ids\n",
    "for idx, unique_ids in enumerate(inserted_IDs):\n",
    "    print(f\"{idx}   {unique_ids}\")"
   ]
  },
  {
   "cell_type": "code",
   "execution_count": null,
   "id": "ec31014b",
   "metadata": {},
   "outputs": [],
   "source": []
  }
 ],
 "metadata": {
  "kernelspec": {
   "display_name": "Python 3 (ipykernel)",
   "language": "python",
   "name": "python3"
  },
  "language_info": {
   "codemirror_mode": {
    "name": "ipython",
    "version": 3
   },
   "file_extension": ".py",
   "mimetype": "text/x-python",
   "name": "python",
   "nbconvert_exporter": "python",
   "pygments_lexer": "ipython3",
   "version": "3.9.7"
  }
 },
 "nbformat": 4,
 "nbformat_minor": 5
}
