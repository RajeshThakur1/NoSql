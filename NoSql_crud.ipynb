{
 "cells": [
  {
   "cell_type": "code",
   "execution_count": 1,
   "id": "ef0e5013",
   "metadata": {},
   "outputs": [],
   "source": [
    "import pymongo"
   ]
  },
  {
   "cell_type": "code",
   "execution_count": 3,
   "id": "2241b955",
   "metadata": {},
   "outputs": [],
   "source": [
    "DEFAULT_CONNECTION_URL = \"mongodb://localhost:27017/\"\n",
    "DB_NAME = \"pybron\"\n",
    "client = pymongo.MongoClient(DEFAULT_CONNECTION_URL)\n",
    "\n",
    "#create DB\n",
    "database = client['DB_NAME']\n"
   ]
  },
  {
   "cell_type": "markdown",
   "id": "7c0bfdd5",
   "metadata": {},
   "source": [
    "---\n",
    "\n",
    "### Paste the default URL in highlighted area of the Compass tool as shown below and click on connect\n",
    "default URL for local system:- \n",
    "```\n",
    "mongodb://localhost:27017/\n",
    "```\n",
    "\n",
    "> ![new connection](mongo_img/compass/c2.JPG)\n",
    "\n",
    "after you press connect you'll see the following screen which contains already existing databases\n",
    "\n",
    "> ![new connection](mongo_img/compass/c3.JPG)\n",
    "\n",
    "\n",
    "**NOTE** you'll not see your database untill or unless you have created first document inside it. So at present we don't have any document in our DB its name is not visible here \n",
    "\n",
    "You can also create a database by clicking on CREATE DATABSE button. You'll see a below screen (But we'll see eveyrthing using python)\n",
    "\n",
    "> ![new connection](mongo_img/compass/c4.JPG)"
   ]
  },
  {
   "cell_type": "code",
   "execution_count": 6,
   "id": "a17d4c5a",
   "metadata": {},
   "outputs": [
    {
     "data": {
      "text/plain": [
       "['admin', 'config', 'local', 'rajesh']"
      ]
     },
     "execution_count": 6,
     "metadata": {},
     "output_type": "execute_result"
    }
   ],
   "source": [
    "### to show what are the existing Databases are present in our mongo server\n",
    "client.list_database_names()"
   ]
  },
  {
   "cell_type": "markdown",
   "id": "08072168",
   "metadata": {},
   "source": [
    "# let's verify wether we have our database in the list or not\n",
    "def checkExisting_DB(DB_NAME, client):\n",
    "    DBlist = client.list_database_names()\n",
    "    print(DBlist)\n",
    "    if DB_NAME in DBlist:\n",
    "        print(f\"{DB_NAME} is present\")\n",
    "        return True\n",
    "    else:\n",
    "        print(f\"{DB_NAME} not present\")\n",
    "        return False"
   ]
  },
  {
   "cell_type": "code",
   "execution_count": 24,
   "id": "fcbf16ea",
   "metadata": {},
   "outputs": [
    {
     "name": "stdout",
     "output_type": "stream",
     "text": [
      "['admin', 'config', 'local', 'rajesh']\n",
      "rajesh is present\n"
     ]
    },
    {
     "data": {
      "text/plain": [
       "True"
      ]
     },
     "execution_count": 24,
     "metadata": {},
     "output_type": "execute_result"
    }
   ],
   "source": [
    "checkExisting_DB('rajesh',client)"
   ]
  },
  {
   "cell_type": "code",
   "execution_count": 11,
   "id": "91dcfe08",
   "metadata": {},
   "outputs": [],
   "source": [
    "DBlist = client.list_database_names()"
   ]
  },
  {
   "cell_type": "markdown",
   "id": "9e3bcd76",
   "metadata": {},
   "source": [
    "### Step To: create a collection"
   ]
  },
  {
   "cell_type": "code",
   "execution_count": 25,
   "id": "648bfcc3",
   "metadata": {},
   "outputs": [],
   "source": [
    "collection_name = \"pybron_product\"\n",
    "collection = database[collection_name]"
   ]
  },
  {
   "cell_type": "code",
   "execution_count": 26,
   "id": "a7844f3e",
   "metadata": {},
   "outputs": [
    {
     "data": {
      "text/plain": [
       "['admin', 'config', 'local', 'rajesh']"
      ]
     },
     "execution_count": 26,
     "metadata": {},
     "output_type": "execute_result"
    }
   ],
   "source": [
    "client.list_database_names()"
   ]
  },
  {
   "cell_type": "code",
   "execution_count": 27,
   "id": "b1a15708",
   "metadata": {},
   "outputs": [],
   "source": [
    "## let's veryfiy the collections\n",
    "def checkExisting_col(COLLECTION_NAME,DB_NAME,db):\n",
    "    \"it will verify the existing collection in the database or not\"\n",
    "    collection_list = db.list_collection_names()\n",
    "    if COLLECTION_NAME in collection_list:\n",
    "        print(f\"{COLLECTION_NAME} is presnt in the Database {DB_NAME}\")\n",
    "        return True\n",
    "    else:\n",
    "        print(f\"{COLLECTION_NAME} is not presnt in the Database {DB_NAME}\")\n",
    "        return False"
   ]
  },
  {
   "cell_type": "code",
   "execution_count": 29,
   "id": "a24a04d9",
   "metadata": {},
   "outputs": [
    {
     "name": "stdout",
     "output_type": "stream",
     "text": [
      "pybron_product is not presnt in the Database rajesh\n"
     ]
    },
    {
     "data": {
      "text/plain": [
       "False"
      ]
     },
     "execution_count": 29,
     "metadata": {},
     "output_type": "execute_result"
    }
   ],
   "source": [
    "checkExisting_col(COLLECTION_NAME=collection_name,DB_NAME=DB_NAME, db= database)"
   ]
  },
  {
   "cell_type": "markdown",
   "id": "4cec8a35",
   "metadata": {},
   "source": [
    "### STEP 3: Insert a record in the collection"
   ]
  },
  {
   "cell_type": "code",
   "execution_count": 31,
   "id": "e29c74c5",
   "metadata": {},
   "outputs": [
    {
     "data": {
      "text/plain": [
       "<pymongo.results.InsertOneResult at 0x22b280529a0>"
      ]
     },
     "execution_count": 31,
     "metadata": {},
     "output_type": "execute_result"
    }
   ],
   "source": [
    "record = {\n",
    "    'company_name':\"pybron\",\n",
    "    \"product\":\"Affordable_AI\",\n",
    "    'course_offered': \"deep learning for computer vission\"\n",
    "}\n",
    "collection.insert_one(record)"
   ]
  },
  {
   "cell_type": "code",
   "execution_count": 32,
   "id": "23c6f539",
   "metadata": {},
   "outputs": [
    {
     "data": {
      "text/plain": [
       "<pymongo.results.InsertOneResult at 0x22b280467f0>"
      ]
     },
     "execution_count": 32,
     "metadata": {},
     "output_type": "execute_result"
    }
   ],
   "source": [
    "record = {\n",
    "    'company_name':\"pybron\",\n",
    "    \"product\":\"Affordable_ML\",\n",
    "    'course_offered': \"MACHINE learning for Data Scientiest\"\n",
    "}\n",
    "collection.insert_one(record)"
   ]
  },
  {
   "cell_type": "code",
   "execution_count": 33,
   "id": "e31f61fc",
   "metadata": {},
   "outputs": [
    {
     "data": {
      "text/plain": [
       "<pymongo.results.InsertOneResult at 0x22b27f3ffd0>"
      ]
     },
     "execution_count": 33,
     "metadata": {},
     "output_type": "execute_result"
    }
   ],
   "source": [
    "record = {\n",
    "    'company_name':\"pybron\",\n",
    "    \"product\":\"Affordable_ML\",\n",
    "    'course_offered': \"MACHINE learning for Data Scientiest\",\n",
    "    \"trainer_name\": \"rajesh\"\n",
    "    \n",
    "}\n",
    "collection.insert_one(record)"
   ]
  },
  {
   "cell_type": "code",
   "execution_count": 35,
   "id": "cc609b02",
   "metadata": {},
   "outputs": [
    {
     "data": {
      "text/plain": [
       "<pymongo.results.InsertManyResult at 0x22b23086610>"
      ]
     },
     "execution_count": 35,
     "metadata": {},
     "output_type": "execute_result"
    }
   ],
   "source": [
    "list_of_records = [\n",
    "    {\n",
    "    'company_name':\"pybron\",\n",
    "    \"product\":\"Affordable_ML\",\n",
    "    'course_offered': \"MACHINE learning for Data Scientiest\",\n",
    "    \"trainer_name\": \"rajesh\"\n",
    "    \n",
    "},\n",
    "    {\n",
    "    'company_name':\"TCS\",\n",
    "    \"product\":\"Affordable_ML\",\n",
    "    'course_offered': \"MACHINE learning for Data Scientiest\",\n",
    "    \"trainer_name\": \"rajesh\"\n",
    "    \n",
    "},\n",
    "    {\n",
    "    'company_name':\"Capgemina\",\n",
    "    \"product\":\"Full stack developer\",\n",
    "    'course_offered': \"MACHINE learning for Data Scientiest\",\n",
    "    \n",
    "    \n",
    "}\n",
    "]\n",
    "collection.insert_many(list_of_records)"
   ]
  },
  {
   "cell_type": "code",
   "execution_count": null,
   "id": "90e8e130",
   "metadata": {},
   "outputs": [],
   "source": []
  }
 ],
 "metadata": {
  "kernelspec": {
   "display_name": "Python 3 (ipykernel)",
   "language": "python",
   "name": "python3"
  },
  "language_info": {
   "codemirror_mode": {
    "name": "ipython",
    "version": 3
   },
   "file_extension": ".py",
   "mimetype": "text/x-python",
   "name": "python",
   "nbconvert_exporter": "python",
   "pygments_lexer": "ipython3",
   "version": "3.9.7"
  }
 },
 "nbformat": 4,
 "nbformat_minor": 5
}
